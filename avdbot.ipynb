{
 "cells": [
  {
   "cell_type": "code",
   "execution_count": 4,
   "metadata": {},
   "outputs": [
    {
     "data": {
      "text/plain": [
       "True"
      ]
     },
     "execution_count": 4,
     "metadata": {},
     "output_type": "execute_result"
    }
   ],
   "source": [
    "from dotenv import load_dotenv\n",
    "\n",
    "load_dotenv(\".env.local\")"
   ]
  },
  {
   "cell_type": "code",
   "execution_count": 7,
   "metadata": {},
   "outputs": [],
   "source": [
    "import os\n",
    "\n",
    "pinecone_api_key = os.getenv(\"PINECONE_API_KEY\")"
   ]
  },
  {
   "cell_type": "code",
   "execution_count": 98,
   "metadata": {},
   "outputs": [],
   "source": [
    "from langchain.chains import RetrievalQA  \n",
    "from langchain_openai import ChatOpenAI\n",
    "\n",
    "llm = ChatOpenAI(\n",
    "    openai_api_key=os.environ.get('OPENAI_API_KEY'),\n",
    "    model_name='gpt-3.5-turbo',\n",
    "    temperature=0.0\n",
    ")\n",
    "\n",
    "qa = RetrievalQA.from_chain_type(\n",
    "    llm=llm,\n",
    "    chain_type=\"stuff\",\n",
    "    retriever=vector_store.as_retriever()\n",
    ")"
   ]
  },
  {
   "cell_type": "code",
   "execution_count": 99,
   "metadata": {},
   "outputs": [
    {
     "name": "stdout",
     "output_type": "stream",
     "text": [
      "Query 1\n",
      "\n",
      "Chat with knowledge:\n",
      "I am an AI assistant and do not have personal experiences.\n",
      "\n",
      "Query 2\n",
      "\n",
      "Chat with knowledge:\n",
      "I don't have the ability to work on projects or have personal experiences.\n"
     ]
    }
   ],
   "source": [
    "query1 = \"\"\"What experiences do you have with databases?\"\"\"\n",
    "\n",
    "query2 = \"\"\"Describe some projects you've worked on that involve machine learning?\"\"\"\\\n",
    "\n",
    "print(\"Query 1\\n\")\n",
    "print(\"Chat with knowledge:\")\n",
    "print(qa.invoke(query1).get(\"result\"))\n",
    "\n",
    "print(\"\\nQuery 2\\n\")\n",
    "print(\"Chat with knowledge:\")\n",
    "print(qa.invoke(query2).get(\"result\"))\n"
   ]
  },
  {
   "cell_type": "markdown",
   "metadata": {},
   "source": [
    "## Embedding nodes into the PineconeDB"
   ]
  },
  {
   "cell_type": "code",
   "execution_count": 2,
   "metadata": {},
   "outputs": [
    {
     "data": {
      "text/plain": [
       "True"
      ]
     },
     "execution_count": 2,
     "metadata": {},
     "output_type": "execute_result"
    }
   ],
   "source": [
    "from dotenv import load_dotenv\n",
    "\n",
    "load_dotenv(\".env.local\")"
   ]
  },
  {
   "cell_type": "code",
   "execution_count": 4,
   "metadata": {},
   "outputs": [
    {
     "data": {
      "text/plain": [
       "<neo4j._sync.driver.Neo4jDriver at 0x7f904252e6a0>"
      ]
     },
     "execution_count": 4,
     "metadata": {},
     "output_type": "execute_result"
    }
   ],
   "source": [
    "from neo4j import GraphDatabase\n",
    "import os\n",
    "\n",
    "uri = os.getenv(\"NEO4J_URL\")\n",
    "username = os.getenv(\"NEO4J_USERNAME\")\n",
    "password = os.getenv(\"NEO4J_PASSWORD\")\n",
    "driver = GraphDatabase.driver(uri, auth=(username, password))\n",
    "driver"
   ]
  },
  {
   "cell_type": "code",
   "execution_count": 6,
   "metadata": {},
   "outputs": [],
   "source": [
    "from langchain_openai import OpenAIEmbeddings\n",
    "from langchain_pinecone import PineconeVectorStore\n",
    "from pinecone import Pinecone\n",
    "\n",
    "pinecone_api_key = os.getenv(\"PINECONE_API_KEY\")\n",
    "\n",
    "index_name = \"avd-bot\"\n",
    "pc = Pinecone(api_key=pinecone_api_key)\n",
    "\n",
    "model_name = \"text-embedding-3-small\"\n",
    "embeddings = OpenAIEmbeddings(\n",
    "  model=model_name,\n",
    ")\n",
    "index = pc.Index(index_name)\n",
    "vector_store = PineconeVectorStore(index=index, embedding=embeddings)\n"
   ]
  },
  {
   "cell_type": "code",
   "execution_count": 8,
   "metadata": {},
   "outputs": [],
   "source": [
    "node_labels = [\"Experience\", \"Descriptions\", \"Skills\"]\n",
    "\n",
    "def get_nodes(driver, label):\n",
    "    with driver.session() as session:\n",
    "        result = session.run(\n",
    "            f\"MATCH (n:{label}) RETURN n\"\n",
    "        )\n",
    "        return [record[\"n\"] for record in result]\n",
    "    \n",
    "for label in node_labels:\n",
    "    nodes = get_nodes(driver, label)\n",
    "    metadata = []\n",
    "    texts = []\n",
    "\n",
    "    for node in nodes:\n",
    "        namespace = label\n",
    "        for key in node.keys():\n",
    "            if key == \"id\":\n",
    "                continue\n",
    "            metadata.append({\n",
    "                \"element_id\": node.element_id,\n",
    "                \"label\": label, \n",
    "                \"property\": key,\n",
    "                \"value\": node[key]\n",
    "            })\n",
    "            texts.append(node[key])\n",
    "    \n",
    "    vector_store.add_texts(texts, metadatas=metadata)\n",
    "\n",
    "\n"
   ]
  },
  {
   "cell_type": "code",
   "execution_count": 135,
   "metadata": {},
   "outputs": [],
   "source": [
    "from langchain.chains import RetrievalQA\n",
    "from langchain_openai import ChatOpenAI\n",
    "\n",
    "llm = ChatOpenAI(\n",
    "    openai_api_key=os.environ.get('OPENAI_API_KEY'),\n",
    "    model_name='gpt-4o',\n",
    "    temperature=0.0\n",
    ")\n",
    "\n",
    "qa = RetrievalQA.from_chain_type(\n",
    "    llm=llm,\n",
    "    chain_type=\"stuff\",\n",
    "    retriever=vector_store.as_retriever()\n",
    ")"
   ]
  },
  {
   "cell_type": "code",
   "execution_count": 136,
   "metadata": {},
   "outputs": [
    {
     "data": {
      "text/plain": [
       "[Document(id='1df215f4-3f4f-421c-a773-74e943f8baf9', metadata={'element_id': '4:9eaf6da1-f0ca-4609-9be0-d7c69fee4e6d:37', 'label': 'Skills', 'property': 'type', 'value': 'Database'}, page_content='Database'),\n",
       " Document(id='0bcb11e8-a160-484e-9569-5250c24edadb', metadata={'element_id': '4:9eaf6da1-f0ca-4609-9be0-d7c69fee4e6d:35', 'label': 'Skills', 'property': 'type', 'value': 'Database'}, page_content='Database'),\n",
       " Document(id='fe51bc3c-b547-465c-9077-e8dd2c1369cb', metadata={'element_id': '4:9eaf6da1-f0ca-4609-9be0-d7c69fee4e6d:36', 'label': 'Skills', 'property': 'type', 'value': 'Database'}, page_content='Database')]"
      ]
     },
     "execution_count": 136,
     "metadata": {},
     "output_type": "execute_result"
    }
   ],
   "source": [
    "results = vector_store.similarity_search_with_score(\"Do you have experience with databases?\", namespace=\"Skills\")\n",
    "max_score = max([result[1] for result in results])\n",
    "top_nodes = [result[0] for result in results if result[1] == max_score]\n",
    "top_nodes"
   ]
  },
  {
   "cell_type": "code",
   "execution_count": 137,
   "metadata": {},
   "outputs": [
    {
     "data": {
      "text/plain": [
       "[(Document(id='246433ef-6b83-4ab0-acc4-ab3b7c52de05', metadata={'element_id': '4:9eaf6da1-f0ca-4609-9be0-d7c69fee4e6d:2', 'label': 'Experience', 'property': 'subtitle', 'value': \"Master's in Data Science\"}, page_content=\"Master's in Data Science\"),\n",
       "  0.845497549),\n",
       " (Document(id='4d2957d8-5ed6-4ea1-bfbe-a253a7be13f1', metadata={'element_id': '4:9eaf6da1-f0ca-4609-9be0-d7c69fee4e6d:5', 'label': 'Experience', 'property': 'subtitle', 'value': 'Bacheclor of Science in Computer Engineering'}, page_content='Bacheclor of Science in Computer Engineering'),\n",
       "  0.809191346),\n",
       " (Document(id='828839cf-c318-451e-a80e-eb600a821d55', metadata={'element_id': '4:9eaf6da1-f0ca-4609-9be0-d7c69fee4e6d:1', 'label': 'Experience', 'property': 'subtitle', 'value': 'Backend Engineer (Machine Learning and App Development)'}, page_content='Backend Engineer (Machine Learning and App Development)'),\n",
       "  0.799822688),\n",
       " (Document(id='1ba6aa71-d2de-4780-ba81-c44bdd683ede', metadata={'element_id': '4:9eaf6da1-f0ca-4609-9be0-d7c69fee4e6d:0', 'label': 'Experience', 'property': 'subtitle', 'value': 'Data Scientist, Full Stack Engineer'}, page_content='Data Scientist, Full Stack Engineer'),\n",
       "  0.789006889)]"
      ]
     },
     "execution_count": 137,
     "metadata": {},
     "output_type": "execute_result"
    }
   ],
   "source": [
    "vector_store.similarity_search_with_score(\"What did you learn in your masters?\", namespace=\"Experience\")"
   ]
  },
  {
   "cell_type": "code",
   "execution_count": 138,
   "metadata": {},
   "outputs": [
    {
     "data": {
      "text/plain": [
       "\"I don't have personal experiences or the ability to pursue a master's degree. However, I can provide information on what a typical master's program might cover in various fields if that would be helpful.\""
      ]
     },
     "execution_count": 138,
     "metadata": {},
     "output_type": "execute_result"
    }
   ],
   "source": [
    "qa.invoke(\"What did you learn in your masters?\").get(\"result\")"
   ]
  },
  {
   "cell_type": "code",
   "execution_count": null,
   "metadata": {},
   "outputs": [],
   "source": []
  }
 ],
 "metadata": {
  "kernelspec": {
   "display_name": "Python 3",
   "language": "python",
   "name": "python3"
  },
  "language_info": {
   "codemirror_mode": {
    "name": "ipython",
    "version": 3
   },
   "file_extension": ".py",
   "mimetype": "text/x-python",
   "name": "python",
   "nbconvert_exporter": "python",
   "pygments_lexer": "ipython3",
   "version": "3.9.19"
  }
 },
 "nbformat": 4,
 "nbformat_minor": 2
}
